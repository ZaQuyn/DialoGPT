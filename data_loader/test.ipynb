{
 "cells": [
  {
   "cell_type": "code",
   "execution_count": 1,
   "metadata": {},
   "outputs": [],
   "source": [
    "import json\n",
    "import pandas as pd"
   ]
  },
  {
   "cell_type": "code",
   "execution_count": 3,
   "metadata": {},
   "outputs": [
    {
     "data": {
      "text/html": [
       "<div>\n",
       "<style scoped>\n",
       "    .dataframe tbody tr th:only-of-type {\n",
       "        vertical-align: middle;\n",
       "    }\n",
       "\n",
       "    .dataframe tbody tr th {\n",
       "        vertical-align: top;\n",
       "    }\n",
       "\n",
       "    .dataframe thead th {\n",
       "        text-align: right;\n",
       "    }\n",
       "</style>\n",
       "<table border=\"1\" class=\"dataframe\">\n",
       "  <thead>\n",
       "    <tr style=\"text-align: right;\">\n",
       "      <th></th>\n",
       "      <th>0</th>\n",
       "      <th>1</th>\n",
       "    </tr>\n",
       "  </thead>\n",
       "  <tbody>\n",
       "    <tr>\n",
       "      <th>0</th>\n",
       "      <td>Hello, I understand your concern. I just have ...</td>\n",
       "      <td>Hello doctor, I get a cough for the last few d...</td>\n",
       "    </tr>\n",
       "    <tr>\n",
       "      <th>1</th>\n",
       "      <td>Hello, I can understand your concern.In my opi...</td>\n",
       "      <td>Hello doctor, I am suffering from coughing, th...</td>\n",
       "    </tr>\n",
       "    <tr>\n",
       "      <th>2</th>\n",
       "      <td>Hello. Anxiety can manifest itself in physical...</td>\n",
       "      <td>Hello doctor,I am a 23-year-old man. I have an...</td>\n",
       "    </tr>\n",
       "    <tr>\n",
       "      <th>3</th>\n",
       "      <td>Hello,please answer the following:Any travel h...</td>\n",
       "      <td>Hello doctor,Last night I was getting chills, ...</td>\n",
       "    </tr>\n",
       "    <tr>\n",
       "      <th>4</th>\n",
       "      <td>Hello and welcome to Ask A Doctor service.I ha...</td>\n",
       "      <td>Hi, I am Chaitanya, 27 years old. I use to swi...</td>\n",
       "    </tr>\n",
       "  </tbody>\n",
       "</table>\n",
       "</div>"
      ],
      "text/plain": [
       "                                                   0  \\\n",
       "0  Hello, I understand your concern. I just have ...   \n",
       "1  Hello, I can understand your concern.In my opi...   \n",
       "2  Hello. Anxiety can manifest itself in physical...   \n",
       "3  Hello,please answer the following:Any travel h...   \n",
       "4  Hello and welcome to Ask A Doctor service.I ha...   \n",
       "\n",
       "                                                   1  \n",
       "0  Hello doctor, I get a cough for the last few d...  \n",
       "1  Hello doctor, I am suffering from coughing, th...  \n",
       "2  Hello doctor,I am a 23-year-old man. I have an...  \n",
       "3  Hello doctor,Last night I was getting chills, ...  \n",
       "4  Hi, I am Chaitanya, 27 years old. I use to swi...  "
      ]
     },
     "execution_count": 3,
     "metadata": {},
     "output_type": "execute_result"
    }
   ],
   "source": [
    "train_data = json.load(open(\"../data/train_data.json\"))\n",
    "val_data = json.load(open(\"../data/validate_data.json\"))\n",
    "\n",
    "train_context = [[train_data[i][1], train_data[i][0]] for i in range(len(train_data))]\n",
    "val_context = [[val_data[i][1], val_data[i][0]] for i in range(len(val_data))]\n",
    "\n",
    "trn_df = pd.DataFrame.from_records(train_context)\n",
    "trn_df.head(5)"
   ]
  },
  {
   "cell_type": "code",
   "execution_count": null,
   "metadata": {},
   "outputs": [],
   "source": []
  }
 ],
 "metadata": {
  "kernelspec": {
   "display_name": "base",
   "language": "python",
   "name": "python3"
  },
  "language_info": {
   "codemirror_mode": {
    "name": "ipython",
    "version": 3
   },
   "file_extension": ".py",
   "mimetype": "text/x-python",
   "name": "python",
   "nbconvert_exporter": "python",
   "pygments_lexer": "ipython3",
   "version": "3.11.5"
  }
 },
 "nbformat": 4,
 "nbformat_minor": 2
}
